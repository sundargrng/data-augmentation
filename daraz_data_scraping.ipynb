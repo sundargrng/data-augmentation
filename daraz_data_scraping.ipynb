{
 "cells": [
  {
   "cell_type": "code",
   "execution_count": 1,
   "id": "c8711f9a",
   "metadata": {},
   "outputs": [],
   "source": [
    "import pandas as pd\n",
    "import requests as re \n",
    "from bs4 import BeautifulSoup"
   ]
  },
  {
   "cell_type": "code",
   "execution_count": 2,
   "id": "305aecd4",
   "metadata": {},
   "outputs": [],
   "source": [
    "URL= 'https://www.daraz.com.np?page=2'\n",
    "headers ={\"User-Agent\": 'Mozilla/5.0 (Windows NT 10.0; Win64; x64) AppleWebKit/537.36 (KHTML, like Gecko) Chrome/94.0.4606.81 Safari/537.36'}\n",
    "webpage=re.get(URL, headers=headers).text"
   ]
  },
  {
   "cell_type": "code",
   "execution_count": 3,
   "id": "d8742b75",
   "metadata": {},
   "outputs": [],
   "source": [
    "soup= BeautifulSoup(webpage,'html.parser')"
   ]
  },
  {
   "cell_type": "code",
   "execution_count": 4,
   "id": "bd0cbc60",
   "metadata": {},
   "outputs": [],
   "source": [
    "daraz_data= soup.find_all('div', class_='fs-card-text')\n",
    "product=[]\n",
    "price=[]\n",
    "for i in daraz_data:\n",
    "    product.append(i.find('p').text.strip())\n",
    "    price.append(i.find('span', class_='price').text.strip())"
   ]
  },
  {
   "cell_type": "code",
   "execution_count": 5,
   "id": "7db25842",
   "metadata": {},
   "outputs": [],
   "source": [
    "df= pd.DataFrame(product,price)"
   ]
  },
  {
   "cell_type": "code",
   "execution_count": 8,
   "id": "9b8cdcbe",
   "metadata": {},
   "outputs": [
    {
     "data": {
      "text/html": [
       "<div>\n",
       "<style scoped>\n",
       "    .dataframe tbody tr th:only-of-type {\n",
       "        vertical-align: middle;\n",
       "    }\n",
       "\n",
       "    .dataframe tbody tr th {\n",
       "        vertical-align: top;\n",
       "    }\n",
       "\n",
       "    .dataframe thead th {\n",
       "        text-align: right;\n",
       "    }\n",
       "</style>\n",
       "<table border=\"1\" class=\"dataframe\">\n",
       "  <thead>\n",
       "    <tr style=\"text-align: right;\">\n",
       "      <th></th>\n",
       "      <th>0</th>\n",
       "    </tr>\n",
       "  </thead>\n",
       "  <tbody>\n",
       "    <tr>\n",
       "      <th>299</th>\n",
       "      <td>4 in 1 Fast Charging Cable (Type C/USB A/Light...</td>\n",
       "    </tr>\n",
       "    <tr>\n",
       "      <th>499</th>\n",
       "      <td>Stylish Kito Sandal For Men By Jutta Ghar Nepal</td>\n",
       "    </tr>\n",
       "    <tr>\n",
       "      <th>1,599</th>\n",
       "      <td>MWC HERO MT69 ENC | AI ENC | Bluetooth 5.4 TWS...</td>\n",
       "    </tr>\n",
       "    <tr>\n",
       "      <th>28,999</th>\n",
       "      <td>CMF PHONE 1 | (8 /128GB) | 6.67” 120 Hz Super ...</td>\n",
       "    </tr>\n",
       "    <tr>\n",
       "      <th>35</th>\n",
       "      <td>Safety Ultra Choice Sanitary Pads - 6 Pcs</td>\n",
       "    </tr>\n",
       "    <tr>\n",
       "      <th>162</th>\n",
       "      <td>Long Life Durable Full Body Bike And Scooter C...</td>\n",
       "    </tr>\n",
       "  </tbody>\n",
       "</table>\n",
       "</div>"
      ],
      "text/plain": [
       "                                                        0\n",
       "299     4 in 1 Fast Charging Cable (Type C/USB A/Light...\n",
       "499       Stylish Kito Sandal For Men By Jutta Ghar Nepal\n",
       "1,599   MWC HERO MT69 ENC | AI ENC | Bluetooth 5.4 TWS...\n",
       "28,999  CMF PHONE 1 | (8 /128GB) | 6.67” 120 Hz Super ...\n",
       "35              Safety Ultra Choice Sanitary Pads - 6 Pcs\n",
       "162     Long Life Durable Full Body Bike And Scooter C..."
      ]
     },
     "execution_count": 8,
     "metadata": {},
     "output_type": "execute_result"
    }
   ],
   "source": [
    "df"
   ]
  },
  {
   "cell_type": "code",
   "execution_count": null,
   "id": "7189074c",
   "metadata": {},
   "outputs": [],
   "source": []
  }
 ],
 "metadata": {
  "kernelspec": {
   "display_name": "Python 3 (ipykernel)",
   "language": "python",
   "name": "python3"
  },
  "language_info": {
   "codemirror_mode": {
    "name": "ipython",
    "version": 3
   },
   "file_extension": ".py",
   "mimetype": "text/x-python",
   "name": "python",
   "nbconvert_exporter": "python",
   "pygments_lexer": "ipython3",
   "version": "3.10.9"
  }
 },
 "nbformat": 4,
 "nbformat_minor": 5
}
